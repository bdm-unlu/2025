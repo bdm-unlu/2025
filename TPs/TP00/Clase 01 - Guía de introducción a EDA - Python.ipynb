{
 "cells": [
  {
   "cell_type": "markdown",
   "id": "88ebc995",
   "metadata": {},
   "source": [
    "# Análisis Exploratorio de Datos (EDA)\n",
    "\n",
    "Base de datos masivas (11088) - Curso 2024\n",
    "\n",
    "## ¿De qué se trata EDA?\n",
    "\n",
    "Análisis exploratorio de datos o **EDA** (_Exploratory Data Analysis_) es esencial tener una visión general de los datos y poder adentrarnos en las tareas de preprocesamiento con una idea de los desafíos que nos podemos encontrar. \n",
    "\n",
    "Las técnicas de resumen descriptivo de datos se pueden utilizar para identificar las propiedades típicas de los datos y destacar qué valores de datos se deben tratar como ruido o valores atípicos. Para esto es importante manejar los conceptos básicos de estadística descriptiva y diferentes herramientas de visualización  ([Ver Libro de Han- _Descriptive Data Summarization_](https://drive.google.com/file/d/1VQhhdPfPdjTUG93M6pl9CBHuaNcbVWJo/view?usp=drive_link)). \n",
    "\n",
    "![workflowEDA](https://upload.wikimedia.org/wikipedia/commons/thumb/b/ba/Data_visualization_process_v1.png/350px-Data_visualization_process_v1.png)"
   ]
  },
  {
   "cell_type": "markdown",
   "id": "758142b7",
   "metadata": {},
   "source": [
    "## ¿Qué herramienta vamos a utilizar?\n",
    "\n",
    "Vamos a trabajar con Python y el módulo [Pandas](https://pandas.pydata.org/). Pueden optar por usar un Google Colab o una instalación local.\n"
   ]
  },
  {
   "cell_type": "code",
   "execution_count": null,
   "id": "fa95ceff",
   "metadata": {},
   "outputs": [],
   "source": [
    "import pandas as pd"
   ]
  },
  {
   "cell_type": "markdown",
   "id": "17720a6f",
   "metadata": {},
   "source": [
    "## ¿Qué datos usamos?\n",
    "\n",
    "Para introducirnos en las diferentes tareas de EDA vamos a utilizar el dataset  [Palmer Penguins](https://www.kaggle.com/datasets/satyajeetrai/palmer-penguins-dataset-for-eda) (Kaggle) que está disponible en el repositorio GitHub. \n"
   ]
  },
  {
   "cell_type": "markdown",
   "id": "f260defc",
   "metadata": {},
   "source": [
    "## Estructura de datos Pandas: Series & DataFrame\n",
    "\n",
    "### Series\n",
    "Un objeto de tipo [Series](https://pandas.pydata.org/docs/reference/api/pandas.Series.html#pandas.Series) es una matriz etiquetada de 1-dimensión capaz de contener cualquier tipo de datos (enteros, cadenas, números de punto flotante, objetos de Python, etc.). Las etiquetas de los ejes se denominan colectivamente índice (index).\n",
    "\n",
    "### DataFrame\n",
    "\n",
    "[DataFrame](https://pandas.pydata.org/docs/reference/api/pandas.DataFrame.html#pandas.DataFrame) es una estructura de datos de 2-dimensiones con columnas de tipos potencialmente diferentes. Podemos pensar en el DataFrame como una hoja de cálculo o una tabla SQL o como un diccionario de objetos Series."
   ]
  },
  {
   "cell_type": "markdown",
   "id": "03311e76",
   "metadata": {},
   "source": [
    "## Operar con un objeto DataFrame"
   ]
  },
  {
   "cell_type": "code",
   "execution_count": null,
   "id": "34d23b25",
   "metadata": {},
   "outputs": [],
   "source": [
    "# Definimos una variable con el path\n",
    "path_datos = \"data/penguins.csv\"\n",
    "\n",
    "# Leemos un archivo de texto separado por comas (csv) y lo instanciamos como un DataFrame\n",
    "datos = pd.read_csv(path_datos)"
   ]
  },
  {
   "cell_type": "code",
   "execution_count": null,
   "id": "6e0f2eb8",
   "metadata": {},
   "outputs": [],
   "source": [
    "# Consultamos el esquema de datos del dataframe\n",
    "datos.info(verbose=True)"
   ]
  },
  {
   "cell_type": "code",
   "execution_count": null,
   "id": "5cd0e4ae",
   "metadata": {},
   "outputs": [],
   "source": [
    "# Listar las columnas del DataFrame \n",
    "datos.columns"
   ]
  },
  {
   "cell_type": "code",
   "execution_count": null,
   "id": "38c0293d",
   "metadata": {},
   "outputs": [],
   "source": [
    "# Consultar las primeras 5 filas de un DataFrame\n",
    "datos.head()"
   ]
  },
  {
   "cell_type": "markdown",
   "id": "5031ca22",
   "metadata": {},
   "source": [
    "## Medidas de tendencia central\n",
    "\n",
    "Las medidas más comunes para analizar la frecuencia de distribución de los datos son la media, la mediana y la moda."
   ]
  },
  {
   "cell_type": "code",
   "execution_count": null,
   "id": "4dc0ef2a",
   "metadata": {},
   "outputs": [],
   "source": [
    "# Media\n",
    "datos[\"flipper_length_mm\"].mean()\n",
    "\n",
    "# QUIZ 1: ¿A qué columnas le puedo calcular la media?"
   ]
  },
  {
   "cell_type": "code",
   "execution_count": null,
   "id": "ed3a263b",
   "metadata": {},
   "outputs": [],
   "source": [
    "# Mediana\n",
    "datos[\"flipper_length_mm\"].median()"
   ]
  },
  {
   "cell_type": "code",
   "execution_count": null,
   "id": "c9b277d8",
   "metadata": {},
   "outputs": [],
   "source": [
    "# Moda\n",
    "datos[\"flipper_length_mm\"].mode()"
   ]
  },
  {
   "cell_type": "code",
   "execution_count": null,
   "id": "551f67a0",
   "metadata": {},
   "outputs": [],
   "source": [
    "# Moda\n",
    "datos[\"species\"].mode()"
   ]
  },
  {
   "cell_type": "markdown",
   "id": "a31d1c69",
   "metadata": {},
   "source": [
    "## Análisis gráfico de las medidas de centralidad"
   ]
  },
  {
   "cell_type": "code",
   "execution_count": null,
   "id": "b6b51706",
   "metadata": {},
   "outputs": [],
   "source": [
    "# Histograma de nuestra variable cuantitativa\n",
    "datos[\"flipper_length_mm\"].hist()"
   ]
  },
  {
   "cell_type": "code",
   "execution_count": null,
   "id": "018daea7",
   "metadata": {},
   "outputs": [],
   "source": [
    "# Incorporamos Matplotlib\n",
    "import matplotlib.pyplot as plt"
   ]
  },
  {
   "cell_type": "code",
   "execution_count": null,
   "id": "b309727f",
   "metadata": {},
   "outputs": [],
   "source": [
    "# Visualización de las medidas de tendencia central en relación a la distribución de frecuencias\n",
    "datos[\"flipper_length_mm\"].hist()\n",
    "plt.axvline(datos[\"flipper_length_mm\"].mean(), color='k', linestyle='dashed', linewidth=1)\n",
    "plt.axvline(datos[\"flipper_length_mm\"].median(), color='r', linestyle='dashed', linewidth=1)\n",
    "plt.axvline(datos[\"flipper_length_mm\"].mode()[0], color='b', linestyle='dashed', linewidth=1)"
   ]
  },
  {
   "cell_type": "markdown",
   "id": "f38379dd",
   "metadata": {},
   "source": [
    "## Agrupamiento: groupby\n",
    "\n",
    "Similar a la instrucción _group by_ de SQL.\n",
    "\n",
    "GroupBy implica uno o más de los siguientes pasos:\n",
    "\n",
    " - **Dividir** los datos en grupos según ciertos criterios.\n",
    " - **Aplicar** una función a cada grupo de forma independiente.\n",
    " - **Combinar** los resultados en una estructura de datos.\n",
    " \n",
    " Referencia: [Group by: split-apply-combine](https://pandas.pydata.org/docs/user_guide/groupby.html)"
   ]
  },
  {
   "cell_type": "code",
   "execution_count": null,
   "id": "adc90a2a",
   "metadata": {},
   "outputs": [],
   "source": [
    "# ¿Qué especies hay?\n",
    "datos.groupby(\"species\").groups.keys()"
   ]
  },
  {
   "cell_type": "code",
   "execution_count": null,
   "id": "6d0823ac",
   "metadata": {},
   "outputs": [],
   "source": [
    "# ¿Qué datos tiene una determinada especie?\n",
    "especies = datos.groupby(\"species\")\n",
    "especies.get_group(\"Chinstrap\")"
   ]
  },
  {
   "cell_type": "code",
   "execution_count": null,
   "id": "e430f296",
   "metadata": {},
   "outputs": [],
   "source": [
    "# ¿Cómo es la longitud media de las aleta (flipper_length_mm) según la especie?\n",
    "especies[\"flipper_length_mm\"].mean()"
   ]
  },
  {
   "cell_type": "markdown",
   "id": "f3eccb64",
   "metadata": {},
   "source": [
    "## Operaciones de Agregación"
   ]
  },
  {
   "cell_type": "code",
   "execution_count": null,
   "id": "97116cb3",
   "metadata": {},
   "outputs": [],
   "source": [
    "# Funciones de agregación\n",
    "datos[[\"species\", \"sex\", \"flipper_length_mm\"]].groupby([\"species\", \"sex\"],as_index=False).mean()"
   ]
  },
  {
   "cell_type": "markdown",
   "id": "dc6ee002",
   "metadata": {},
   "source": [
    "## Medidas de Dispersión\n",
    "\n",
    "El segundo tipo de estadística descriptiva es la medida de dispersión, también conocida como medida de variabilidad. Se utiliza para describir la variabilidad de un conjunto de datos, que puede ser una muestra o una población. \n",
    "\n",
    " - Por lo general, se utiliza junto con una medida de tendencia central para proporcionar una descripción general de un conjunto de datos. \n",
    " - Una medida de dispersión nos da una idea de qué tan bien la tendencia central representa los datos. Si analizamos el conjunto de datos de cerca, a veces, la media/promedio puede no ser la mejor representación de los datos porque variará cuando haya grandes variaciones entre los datos. En tal caso, una medida de dispersión representará la variabilidad en un conjunto de datos con mucha más precisión."
   ]
  },
  {
   "cell_type": "code",
   "execution_count": null,
   "id": "8bf66bea",
   "metadata": {},
   "outputs": [],
   "source": [
    "# Desvío Estándar\n",
    "datos[\"flipper_length_mm\"].std()"
   ]
  },
  {
   "cell_type": "code",
   "execution_count": null,
   "id": "1781fdf7",
   "metadata": {},
   "outputs": [],
   "source": [
    "# Varianza\n",
    "datos[\"flipper_length_mm\"].var()"
   ]
  },
  {
   "cell_type": "code",
   "execution_count": null,
   "id": "bda3cfea",
   "metadata": {},
   "outputs": [],
   "source": [
    "# Cuantiles\n",
    "datos[\"flipper_length_mm\"].quantile([.05, .5, .95])"
   ]
  },
  {
   "cell_type": "code",
   "execution_count": null,
   "id": "7382ab59",
   "metadata": {},
   "outputs": [],
   "source": [
    "datos[[\"species\", \"sex\", \"flipper_length_mm\"]].groupby([\"species\", \"sex\"],as_index=False).std()"
   ]
  },
  {
   "cell_type": "code",
   "execution_count": null,
   "id": "4ab25f9e",
   "metadata": {},
   "outputs": [],
   "source": [
    "# Agregación aplicando varias funciones a través de .agg()\n",
    "\n",
    "# Definimos la columna y las funciones que vamos a aplicar\n",
    "funciones = {'flipper_length_mm': ['median', 'std', 'var']}\n",
    "\n",
    "datos[[\"species\", \"sex\", \"flipper_length_mm\"]].groupby([\"species\", \"sex\"],as_index=False).agg(funciones)"
   ]
  },
  {
   "cell_type": "markdown",
   "id": "5c179af0",
   "metadata": {},
   "source": [
    "## Los números mágicos"
   ]
  },
  {
   "cell_type": "code",
   "execution_count": null,
   "id": "6de8b7d5",
   "metadata": {},
   "outputs": [],
   "source": [
    "# Los Números mágicos de resumen\n",
    "datos.describe()\n",
    "\n",
    "# QUIZ 1: ¿Qué tipo de dato son las variables que muestra por default?"
   ]
  },
  {
   "cell_type": "code",
   "execution_count": null,
   "id": "3167e206",
   "metadata": {},
   "outputs": [],
   "source": [
    "# Podemos ver solo las variables categóricas\n",
    "datos.describe(include='object')\n",
    "\n",
    "# QUIZ 2: ¿Cómo listarlas todas juntas? ¿Qué caracteristica tiene el resultado y por qué?"
   ]
  },
  {
   "cell_type": "markdown",
   "id": "f2e40099",
   "metadata": {},
   "source": [
    "## Análisis gráfico: Opciones según la naturaleza de los datos\n",
    "\n",
    "- Gráficos de dispersión\n",
    "- Gráficos de barras\n",
    "- Boxplots"
   ]
  },
  {
   "cell_type": "code",
   "execution_count": null,
   "id": "8cd260a3",
   "metadata": {},
   "outputs": [],
   "source": [
    "# Gráfico de dispersión\n",
    "datos.plot.scatter(x=\"bill_length_mm\", y=\"bill_depth_mm\")"
   ]
  },
  {
   "cell_type": "code",
   "execution_count": null,
   "id": "9c8c9abd",
   "metadata": {},
   "outputs": [],
   "source": [
    "# Definimos un diccionario de colores\n",
    "colores = dict(zip(list(datos.groupby(\"species\").groups.keys()),[\"red\",\"green\",\"blue\"]))\n",
    "colores"
   ]
  },
  {
   "cell_type": "code",
   "execution_count": null,
   "id": "189f9423",
   "metadata": {},
   "outputs": [],
   "source": [
    "# Coloreamos por especie\n",
    "lista_colores = [colores[categoria] for categoria in datos[\"species\"]]\n",
    "\n",
    "datos.plot.scatter(x=\"bill_length_mm\", y=\"bill_depth_mm\", c=lista_colores)"
   ]
  },
  {
   "cell_type": "code",
   "execution_count": null,
   "id": "08f5f9b2",
   "metadata": {},
   "outputs": [],
   "source": [
    "# Gráficos de barras: Cantidad de casos por especie\n",
    "datos[[\"species\", \"id\"]].groupby('species').count().plot.bar(y=\"id\")"
   ]
  },
  {
   "cell_type": "code",
   "execution_count": null,
   "id": "c3caed24",
   "metadata": {},
   "outputs": [],
   "source": [
    "# Gráficos de barras: Media del largo del pico por especie\n",
    "datos[[\"species\", \"bill_length_mm\"]].groupby('species').mean().plot.bar(y=\"bill_length_mm\")"
   ]
  },
  {
   "cell_type": "code",
   "execution_count": null,
   "id": "86f76415",
   "metadata": {},
   "outputs": [],
   "source": [
    "# Gráfico de Torta (pie)\n",
    "datos.island.value_counts(normalize=True).plot.pie()"
   ]
  },
  {
   "cell_type": "code",
   "execution_count": null,
   "id": "f6c90368",
   "metadata": {},
   "outputs": [],
   "source": [
    "# Boxplots por especies\n",
    "datos[[\"species\", \"bill_length_mm\"]].boxplot(by=\"species\")"
   ]
  },
  {
   "cell_type": "code",
   "execution_count": null,
   "id": "853831ec",
   "metadata": {},
   "outputs": [],
   "source": [
    "import seaborn as sns\n",
    "\n",
    "sns.pairplot(data = datos, vars=['bill_length_mm', 'bill_depth_mm', 'flipper_length_mm', 'body_mass_g'], hue=\"species\" )\n",
    "plt.show()\n"
   ]
  }
 ],
 "metadata": {
  "kernelspec": {
   "display_name": "out_env",
   "language": "python",
   "name": "out_env"
  },
  "language_info": {
   "codemirror_mode": {
    "name": "ipython",
    "version": 3
   },
   "file_extension": ".py",
   "mimetype": "text/x-python",
   "name": "python",
   "nbconvert_exporter": "python",
   "pygments_lexer": "ipython3",
   "version": "3.10.12"
  }
 },
 "nbformat": 4,
 "nbformat_minor": 5
}
